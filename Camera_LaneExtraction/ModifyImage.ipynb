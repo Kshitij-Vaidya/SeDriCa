{
 "cells": [
  {
   "cell_type": "code",
   "execution_count": null,
   "metadata": {},
   "outputs": [],
   "source": [
    "import cv2\n",
    "import numpy as np"
   ]
  },
  {
   "cell_type": "code",
   "execution_count": null,
   "metadata": {},
   "outputs": [],
   "source": [
    "path = '/Users/kshitijvaidya/Desktop/VirtualEnvironment/SeDriCa_Projects/Camera_LaneExtraction/SobelStraight1.jpeg'\n",
    "img = cv2.imread(path)\n",
    "img = cv2.cvtColor(img, cv2.COLOR_BGR2GRAY)\n",
    "\n",
    "# image = cv2.resize(img, (1280, 780), interpolation = cv2.INTER_AREA)\n",
    "i = 0\n",
    "while True:\n",
    "    if (img[0, i] != 0):\n",
    "        print(i)\n",
    "        break\n",
    "    else:\n",
    "        i+=1\n",
    "i = 0\n",
    "while True:\n",
    "    if (img[779, i] != 0):\n",
    "        print(i)\n",
    "        break\n",
    "    else:\n",
    "        i+=1\n",
    "i = 1279\n",
    "while True:\n",
    "    if (img[779, i] != 0):\n",
    "        print(i)\n",
    "        break\n",
    "    else:\n",
    "        i-=1\n",
    "i = 1279\n",
    "while True:\n",
    "    if (img[0, i] != 0):\n",
    "        print(i)\n",
    "        break\n",
    "    else:\n",
    "        i-=1\n",
    "\n"
   ]
  },
  {
   "cell_type": "code",
   "execution_count": null,
   "metadata": {},
   "outputs": [],
   "source": [
    "test_path = '/Users/kshitijvaidya/Desktop/VirtualEnvironment/SeDriCa_Projects/CV_IPM_Task/camera_image1.png'\n",
    "img = cv2.imread(test_path)\n",
    "img = cv2.resize(img, (1280, 780), interpolation = cv2.INTER_AREA)"
   ]
  },
  {
   "cell_type": "code",
   "execution_count": null,
   "metadata": {},
   "outputs": [],
   "source": [
    "'''''\n",
    "Left Hand Side Black Line : Start = [158, 0] --Fine\n",
    "                            End = [719, 327]\n",
    "    # Starting point : 157, 158, 159, 160\n",
    "    # Ending point : 777, 778, 779, 780, 781        \n",
    "\n",
    "Right Hand Side Black Line : Start = [0, 1038] --Fine\n",
    "                             End = [719, 806] --Fine\n",
    "'''\n",
    "\n",
    "leftSlope = (779 - 0) / (320 - 0)\n",
    "rightSlope = (779 - 0) / (863 - 1135)\n",
    "\n",
    "print(leftSlope)\n",
    "print(rightSlope)"
   ]
  },
  {
   "cell_type": "code",
   "execution_count": null,
   "metadata": {},
   "outputs": [],
   "source": [
    "# [0, 1038] [719, 806]\n",
    "x_upper = [1035, 1034, 1033, 1032, 1031, 1030]\n",
    "x_lower = [863, 862, 861, 860, 859, 858]\n",
    "for x_u, x_l in zip(x_upper, x_lower):\n",
    "    x_list = [i for i in range(x_l, x_u + 1)][-1::-1]\n",
    "    y_list = [int(rightSlope * (i - x_u)) for i in x_list]\n",
    "    for i in range(len(y_list)):\n",
    "        if y_list[i] > 779:\n",
    "            y_list[i] = 779\n",
    "\n",
    "    for y, x in zip(y_list, x_list):\n",
    "        img[y, x] = 0"
   ]
  },
  {
   "cell_type": "code",
   "execution_count": null,
   "metadata": {},
   "outputs": [],
   "source": [
    "# Moving from points : (158, 0) to (158, 6)\n",
    "# End points : (719, 327) to (719, 333)\n",
    "y_range = [320, 321, 322, 323, 324, 325, 326]\n",
    "x_range = [0, 1, 2, 3, 4, 5, 6]\n",
    "\n",
    "for y_pixel, x_pixel in zip(y_range, x_range):\n",
    "    x_list = [i for i in range(0, y_pixel+1)]\n",
    "    y_list = [int((leftSlope * (i - x_pixel))) for i in x_list]\n",
    "    for i in range(len(y_list)):\n",
    "        if y_list[i] > 779:\n",
    "            y_list[i] = 779\n",
    "\n",
    "    for y, x in zip(y_list, x_list):\n",
    "        img[y, x] = 0"
   ]
  },
  {
   "cell_type": "code",
   "execution_count": null,
   "metadata": {},
   "outputs": [],
   "source": [
    "cv2.imwrite('check_image.png', img)"
   ]
  },
  {
   "cell_type": "code",
   "execution_count": null,
   "metadata": {},
   "outputs": [],
   "source": [
    "i = 0\n",
    "while True:\n",
    "    if (img[0, i] != 0):\n",
    "        print(i)\n",
    "        break\n",
    "    else:\n",
    "        i+=1\n",
    "i = 0\n",
    "while True:\n",
    "    if (img[779, i] != 0):\n",
    "        print(i)\n",
    "        break\n",
    "    else:\n",
    "        i+=1\n",
    "i = 1279\n",
    "while True:\n",
    "    if (img[779, i] != 0):\n",
    "        print(i)\n",
    "        break\n",
    "    else:\n",
    "        i-=1\n",
    "i = 1279\n",
    "while True:\n",
    "    if (img[0, i] != 0):\n",
    "        print(i)\n",
    "        break\n",
    "    else:\n",
    "        i-=1"
   ]
  },
  {
   "cell_type": "code",
   "execution_count": null,
   "metadata": {},
   "outputs": [],
   "source": [
    "i = 0\n",
    "for i in range(780):\n",
    "    j = 0\n",
    "    while img[i,j] == 0:\n",
    "        j+=1\n",
    "\n",
    "    for k in range(10):\n",
    "        img[i,j+k] = 0\n",
    "\n",
    "for i in range(780):\n",
    "    j = 1279\n",
    "    while img[i,j] == 0:\n",
    "        j-=1\n",
    "    for k in range(10):\n",
    "        img[i,j-k] = 0"
   ]
  },
  {
   "cell_type": "code",
   "execution_count": null,
   "metadata": {},
   "outputs": [],
   "source": [
    "def apply_sobel(image):\n",
    "   \n",
    "    gray = cv2.cvtColor(image, cv2.COLOR_BGR2GRAY)\n",
    "    \n",
    "   \n",
    "    sobelx = cv2.Sobel(gray, cv2.CV_64F, 1, 0, ksize=3)\n",
    "    sobely = cv2.Sobel(gray, cv2.CV_64F, 0, 1, ksize=3)\n",
    "    \n",
    "    \n",
    "    sobel_combined = np.sqrt(sobelx**2 + sobely**2)\n",
    "    \n",
    "    # Normalize the result to 0-255\n",
    "    sobel_normalized = cv2.normalize(sobel_combined, None, 0, 255, cv2.NORM_MINMAX, cv2.CV_8U)\n",
    "    \n",
    "    return sobel_normalized"
   ]
  },
  {
   "cell_type": "code",
   "execution_count": null,
   "metadata": {},
   "outputs": [],
   "source": [
    "\n",
    "path = '/Users/kshitijvaidya/Downloads/final_dataset/saved_ipm/ipm_image162.png'\n",
    "orig_image = cv2.imread(path)\n",
    "sobel_result = apply_sobel(orig_image)"
   ]
  },
  {
   "cell_type": "code",
   "execution_count": null,
   "metadata": {},
   "outputs": [],
   "source": [
    "i = 0\n",
    "for i in range(780):\n",
    "    j = 0\n",
    "    while sobel_result[i,j] == 0:\n",
    "        j+=1\n",
    "\n",
    "    for k in range(10):\n",
    "        sobel_result[i,j+k] = 0\n",
    "\n",
    "for i in range(780):\n",
    "    j = 1279\n",
    "    while sobel_result[i,j] == 0:\n",
    "        j-=1\n",
    "    for k in range(10):\n",
    "        sobel_result[i,j-k] = 0"
   ]
  },
  {
   "cell_type": "code",
   "execution_count": null,
   "metadata": {},
   "outputs": [],
   "source": [
    "out_path = 'sobel_img.png'\n",
    "cv2.imwrite(out_path, sobel_result)"
   ]
  },
  {
   "cell_type": "code",
   "execution_count": null,
   "metadata": {},
   "outputs": [],
   "source": [
    "for i in range(1, 202):\n",
    "    path = f'/Users/kshitijvaidya/Downloads/final_dataset/saved_ipm/ipm_image{i}.png'\n",
    "    img = cv2.imread(path)\n",
    "    sobel_result = apply_sobel(img)\n",
    "\n",
    "    j = 0\n",
    "    for j in range(780):\n",
    "        k = 0\n",
    "        while sobel_result[j,k] == 0:\n",
    "            k+=1\n",
    "\n",
    "        for l in range(10):\n",
    "            sobel_result[j,k+l] = 0\n",
    "\n",
    "    j = 0\n",
    "    for j in range(780):\n",
    "        k = 1279\n",
    "        while sobel_result[j,k] == 0:\n",
    "            k-=1\n",
    "        for l in range(10):\n",
    "            sobel_result[j,k-l] = 0\n",
    "\n",
    "    out_path = f'SobelThreshold/sobel_img{i}.png'\n",
    "    cv2.imwrite(out_path, sobel_result)"
   ]
  },
  {
   "cell_type": "code",
   "execution_count": null,
   "metadata": {},
   "outputs": [],
   "source": [
    "for i in range(202, 1861):\n",
    "    path = f'/Users/kshitijvaidya/Desktop/VirtualEnvironment/SeDriCa_Projects/final_dataset/saved_ipm/ipm_image{i}.png'\n",
    "    img = cv2.imread(path)\n",
    "    img = cv2.resize(img, (1280, 780), interpolation = cv2.INTER_AREA)\n",
    "    sobel_result = apply_sobel(img)\n",
    "\n",
    "    j = 0\n",
    "    for j in range(780):\n",
    "        k = 0\n",
    "        while sobel_result[j,k] == 0:\n",
    "            k+=1\n",
    "\n",
    "        for l in range(10):\n",
    "            sobel_result[j,k+l] = 0\n",
    "\n",
    "    j = 0\n",
    "    for j in range(780):\n",
    "        k = 1279\n",
    "        while sobel_result[j,k] == 0:\n",
    "            k-=1\n",
    "        for l in range(10):\n",
    "            sobel_result[j,k-l] = 0\n",
    "\n",
    "    out_path = f'SobelThreshold/sobel_img{i}.png'\n",
    "    cv2.imwrite(out_path, sobel_result)"
   ]
  },
  {
   "cell_type": "code",
   "execution_count": null,
   "metadata": {},
   "outputs": [],
   "source": []
  }
 ],
 "metadata": {
  "kernelspec": {
   "display_name": "newenv",
   "language": "python",
   "name": "python3"
  },
  "language_info": {
   "codemirror_mode": {
    "name": "ipython",
    "version": 3
   },
   "file_extension": ".py",
   "mimetype": "text/x-python",
   "name": "python",
   "nbconvert_exporter": "python",
   "pygments_lexer": "ipython3",
   "version": "3.11.6"
  }
 },
 "nbformat": 4,
 "nbformat_minor": 2
}
