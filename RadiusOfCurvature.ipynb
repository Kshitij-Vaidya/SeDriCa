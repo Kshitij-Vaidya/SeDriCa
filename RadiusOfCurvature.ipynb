{
 "cells": [
  {
   "cell_type": "code",
   "execution_count": 2,
   "metadata": {},
   "outputs": [],
   "source": [
    "import numpy as np \n",
    "import matplotlib.pyplot as plt \n",
    "import math"
   ]
  },
  {
   "cell_type": "code",
   "execution_count": 8,
   "metadata": {},
   "outputs": [],
   "source": [
    "def RadiusOfCurvature(p1, p2, p3):\n",
    "    s1 = math.sqrt((p1[0] - p2[0])**2 + (p1[1] - p2[1])**2)\n",
    "    # print(s1)\n",
    "    s2 = math.sqrt((p2[0] - p3[0])**2 + (p2[1] - p3[1])**2)\n",
    "    # print(s2)\n",
    "    s3 = math.sqrt((p3[0] - p1[0])**2 + (p3[1] - p1[1])**2)\n",
    "    # print(s3)\n",
    "\n",
    "    semi = (s1 + s2 + s3) / 2\n",
    "    # print(semi)\n",
    "    area = math.sqrt(semi * (semi-s1) * (semi-s2) * (semi-s3))\n",
    "    # print(area)\n",
    "\n",
    "    radius = (s1 * s2 * s3) / (4 * area)\n",
    "    return radius"
   ]
  },
  {
   "cell_type": "code",
   "execution_count": 9,
   "metadata": {},
   "outputs": [
    {
     "name": "stdout",
     "output_type": "stream",
     "text": [
      "3.0\n",
      "5.0\n",
      "4.0\n",
      "6.0\n",
      "36.0\n",
      "6.0\n"
     ]
    },
    {
     "data": {
      "text/plain": [
       "2.5"
      ]
     },
     "execution_count": 9,
     "metadata": {},
     "output_type": "execute_result"
    }
   ],
   "source": [
    "RadiusOfCurvature((0,0), (3,0), (0,4))"
   ]
  },
  {
   "cell_type": "code",
   "execution_count": null,
   "metadata": {},
   "outputs": [],
   "source": []
  }
 ],
 "metadata": {
  "kernelspec": {
   "display_name": "newenv",
   "language": "python",
   "name": "python3"
  },
  "language_info": {
   "codemirror_mode": {
    "name": "ipython",
    "version": 3
   },
   "file_extension": ".py",
   "mimetype": "text/x-python",
   "name": "python",
   "nbconvert_exporter": "python",
   "pygments_lexer": "ipython3",
   "version": "3.11.6"
  }
 },
 "nbformat": 4,
 "nbformat_minor": 2
}
